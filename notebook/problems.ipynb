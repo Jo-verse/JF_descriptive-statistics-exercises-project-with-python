{
    "cells": [
        {
            "cell_type": "markdown",
            "id": "ac622319",
            "metadata": {},
            "source": [
                "# Descriptive statistics problems"
            ]
        },
        {
            "cell_type": "markdown",
            "id": "5e0ab0d5",
            "metadata": {},
            "source": [
                "### Exercise 1\n",
                "\n",
                "We will use NumPy to obtain information to describe statistically.\n",
                "\n",
                "- Generate an array of 100 elements following a normal distribution.\n",
                "- Generate an array of 100 elements following a chi-square distribution with 3 degrees of freedom.\n",
                "- Calculate the main metrics and statistical measures that best describe the two vectors."
            ]
        },
        {
            "cell_type": "code",
            "execution_count": 10,
            "id": "34720ab6",
            "metadata": {},
            "outputs": [
                {
                    "name": "stdout",
                    "output_type": "stream",
                    "text": [
                        "--- Normal Distribution Statistics ---\n",
                        "Mean: -0.1117\n",
                        "Median: -0.2890\n",
                        "Standard Deviation: 1.0058\n",
                        "Variance: 1.0116\n",
                        "Min: -2.0083\n",
                        "Max: 2.7477\n",
                        "--- Chi-Square Distribution Statistics ---\n",
                        "Mean: 3.1347\n",
                        "Median: 2.4560\n",
                        "Standard Deviation: 2.7793\n",
                        "Variance: 7.7245\n",
                        "Min: 0.2316\n",
                        "Max: 15.7310\n"
                    ]
                }
            ],
            "source": [
                "import numpy as np\n",
                "import statistics as stats\n",
                "\n",
                "# Generate 100 elements from a normal distribution (mean=0, std=1)\n",
                "normal_data = np.random.normal(loc=0, scale=1, size=100)\n",
                "\n",
                "# Generate 100 elements from a chi-square distribution (df=3)\n",
                "chi_square_data = np.random.chisquare(df=3, size=100)\n",
                "\n",
                "\n",
                "# Function to calculate statistical metrics using statistics module\n",
                "def describe_data(data, name):\n",
                "    print(f\"--- {name} Statistics ---\")\n",
                "    print(f\"Mean: {stats.mean(data):.4f}\")\n",
                "    print(f\"Median: {stats.median(data):.4f}\")\n",
                "    print(f\"Standard Deviation: {stats.stdev(data):.4f}\")\n",
                "    print(f\"Variance: {stats.variance(data):.4f}\")\n",
                "    print(f\"Min: {min(data):.4f}\")\n",
                "    print(f\"Max: {max(data):.4f}\")\n",
                "\n",
                "describe_data(normal_data, \"Normal Distribution\")\n",
                "describe_data(chi_square_data, \"Chi-Square Distribution\")"
            ]
        },
        {
            "cell_type": "markdown",
            "id": "46c70c3d",
            "metadata": {},
            "source": [
                "### Exercise 2\n",
                "\n",
                "Write a Python program to calculate the standard deviation of the following data:\n",
                "\n",
                "```py\n",
                "data = [4, 2, 5, 8, 6]\n",
                "```"
            ]
        },
        {
            "cell_type": "code",
            "execution_count": 8,
            "id": "d590308e",
            "metadata": {},
            "outputs": [
                {
                    "name": "stdout",
                    "output_type": "stream",
                    "text": [
                        "Standard Deviation: 2.2361\n"
                    ]
                }
            ],
            "source": [
                "data = [4, 2, 5, 8, 6]\n",
                "\n",
                "# Calculate standard deviation\n",
                "std_dev = stats.stdev(data)\n",
                "\n",
                "print(f\"Standard Deviation: {std_dev:.4f}\")"
            ]
        }
    ],
    "metadata": {
        "kernelspec": {
            "display_name": "Python 3",
            "language": "python",
            "name": "python3"
        },
        "language_info": {
            "codemirror_mode": {
                "name": "ipython",
                "version": 3
            },
            "file_extension": ".py",
            "mimetype": "text/x-python",
            "name": "python",
            "nbconvert_exporter": "python",
            "pygments_lexer": "ipython3",
            "version": "3.11.4"
        }
    },
    "nbformat": 4,
    "nbformat_minor": 5
}
